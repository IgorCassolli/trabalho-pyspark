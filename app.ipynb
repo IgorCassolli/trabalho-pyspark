{
 "cells": [
  {
   "cell_type": "markdown",
   "metadata": {},
   "source": [
    "### Trabalho PySpark\n",
    "\n",
    "Autores:\n",
    "\n",
    "- Igor da Silva Cassolli\n",
    "- Jones Marlos Pinheiro da Rosa"
   ]
  },
  {
   "cell_type": "markdown",
   "metadata": {},
   "source": [
    "## Objetivos e dados relevantes:\n",
    "\n",
    "### Dados:\n",
    "\n",
    "##### Análise de Gravidade\n",
    "    - Quantidade total de feridos (feridos), feridos graves (feridos_gr), mortes (mortes), mortes pós-acidente (morte_post) e acidentes fatais (fatais).\n",
    "    - Calcule o percentual de acidentes com vítimas fatais em relação ao total.\n",
    "    - Pergunta: \"Quantos acidentes envolvem apenas feridos, sem mortes?\"\n",
    "\n",
    "##### Fatores Temporais\n",
    "    -- Acidentes por dia da semana (dia_sem):\n",
    "    -- Horário do acidente (hora)\n",
    "    -- Datas especificas (data)\n",
    "\n",
    "##### Localização Geográfica\n",
    "    -- Regiões mais perigosas (regiao, longitude, latitude)\n",
    "    -- Logradouros afetados (log1, log2)\n",
    "\n",
    "##### Análise do Tipo de Acidente\n",
    "    -- Categorias de acidentes (tipo_acid)\n",
    "        -- Relacione tipos de acidentes com gravidade (feridos e mortes).  \n",
    "\n",
    "### Possiveis ML:\n",
    "\n",
    "#### Previsão de Fatalidades\n",
    "#### Identificação de regiões com mais acidentes\n",
    "#### Previsão de Período do Dia\n"
   ]
  },
  {
   "cell_type": "markdown",
   "metadata": {},
   "source": [
    "### Importando Bibliotecas"
   ]
  },
  {
   "cell_type": "code",
   "execution_count": 1,
   "metadata": {},
   "outputs": [],
   "source": [
    "from pyspark.sql import SparkSession\n",
    "import pandas as pd\n",
    "import numpy as np\n",
    "import seaborn as sns\n",
    "import matplotlib.pyplot as plt\n",
    "import plotly.express as px"
   ]
  },
  {
   "cell_type": "markdown",
   "metadata": {},
   "source": [
    "### Iniciando sessão Spark"
   ]
  },
  {
   "cell_type": "code",
   "execution_count": 2,
   "metadata": {},
   "outputs": [],
   "source": [
    "spark = SparkSession.builder.appName('Trabalho-PySpark').getOrCreate()"
   ]
  },
  {
   "cell_type": "markdown",
   "metadata": {},
   "source": [
    "### Criando estrutura de dados"
   ]
  },
  {
   "cell_type": "code",
   "execution_count": 32,
   "metadata": {},
   "outputs": [],
   "source": [
    "from pyspark.sql.types import StructType, StructField, FloatType, StringType, DateType, IntegerType, TimestampType\n",
    "\n",
    "# Criando schema com os tipos de cada coluna do dataset\n",
    "schema = StructType([\n",
    "    StructField(\"data_extracao\", TimestampType(), nullable=True), \n",
    "    StructField(\"predial1\", IntegerType(), nullable=True),\n",
    "    StructField(\"queda_arr\", FloatType(), nullable=True),\n",
    "    StructField(\"data\", DateType(), nullable=True),\n",
    "    StructField(\"feridos\", IntegerType(), nullable=True),\n",
    "    StructField(\"feridos_gr\", IntegerType(), nullable=True),\n",
    "    StructField(\"mortes\", IntegerType(), nullable=True),\n",
    "    StructField(\"morte_post\", IntegerType(), nullable=True),\n",
    "    StructField(\"fatais\", IntegerType(), nullable=True),\n",
    "    StructField(\"auto\", IntegerType(), nullable=True),\n",
    "    StructField(\"taxi\", IntegerType(), nullable=True),\n",
    "    StructField(\"lotacao\", IntegerType(), nullable=True),\n",
    "    StructField(\"onibus_urb\", IntegerType(), nullable=True),\n",
    "    StructField(\"onibus_met\", IntegerType(), nullable=True),\n",
    "    StructField(\"onibus_int\", IntegerType(), nullable=True),\n",
    "    StructField(\"caminhao\", IntegerType(), nullable=True),\n",
    "    StructField(\"moto\", IntegerType(), nullable=True),\n",
    "    StructField(\"carroca\", IntegerType(), nullable=True),\n",
    "    StructField(\"bicicleta\", IntegerType(), nullable=True),\n",
    "    StructField(\"outro\", IntegerType(), nullable=True),\n",
    "    StructField(\"cont_vit\", IntegerType(), nullable=True),\n",
    "    StructField(\"ups\", IntegerType(), nullable=True),\n",
    "    StructField(\"patinete\", IntegerType(), nullable=True),\n",
    "    StructField(\"idacidente\", IntegerType(), nullable=True),\n",
    "    StructField(\"longitude\", StringType(), nullable=True),\n",
    "    StructField(\"latitude\", StringType(), nullable=True),\n",
    "    StructField(\"log1\", StringType(), nullable=True),\n",
    "    StructField(\"log2\", StringType(), nullable=True),\n",
    "    StructField(\"tipo_acid\", StringType(), nullable=True),\n",
    "    StructField(\"dia_sem\", StringType(), nullable=True),\n",
    "    StructField(\"hora\", StringType(), nullable=True),\n",
    "    StructField(\"noite_dia\", StringType(), nullable=True),\n",
    "    StructField(\"regiao\", StringType(), nullable=True),\n",
    "    StructField(\"consorcio\", StringType(), nullable=True),\n",
    "])\n",
    "\n",
    "# Lendo dataset com base no schema criado\n",
    "data_acidentes = spark.read.csv(\"dataset_acidentes.csv\", schema=schema, header=True, sep=\";\")\n",
    "\n",
    "# Criar tabela temporária para rodar comandos SQL\n",
    "data_acidentes.createOrReplaceTempView(\"acidentes_table\")"
   ]
  },
  {
   "cell_type": "markdown",
   "metadata": {},
   "source": [
    "### Analisar os dados"
   ]
  },
  {
   "cell_type": "code",
   "execution_count": null,
   "metadata": {},
   "outputs": [
    {
     "name": "stdout",
     "output_type": "stream",
     "text": [
      "+-------------------+--------+---------+----------+-------+----------+------+----------+------+----+----+-------+----------+----------+----------+--------+----+-------+---------+-----+--------+---+--------+----------+---------+--------+----------------+----------------+------------+-------+----------------+---------+------+---------+\n",
      "|      data_extracao|predial1|queda_arr|      data|feridos|feridos_gr|mortes|morte_post|fatais|auto|taxi|lotacao|onibus_urb|onibus_met|onibus_int|caminhao|moto|carroca|bicicleta|outro|cont_vit|ups|patinete|idacidente|longitude|latitude|            log1|            log2|   tipo_acid|dia_sem|            hora|noite_dia|regiao|consorcio|\n",
      "+-------------------+--------+---------+----------+-------+----------+------+----------+------+----+----+-------+----------+----------+----------+--------+----+-------+---------+-----+--------+---+--------+----------+---------+--------+----------------+----------------+------------+-------+----------------+---------+------+---------+\n",
      "|2024-09-01 01:32:36|       0|      0.0|2020-10-17|      1|         0|     0|         0|     0|   3|   0|      0|         0|         0|         0|       0|   1|      0|        0|    0|       1|  5|       0|    190816|        0|       0|R MARCOS MOREIRA|R GASTON ENGLERT|ABALROAMENTO| SÁBADO|19:00:00.0000000|    NOITE| NORTE|     NULL|\n",
      "+-------------------+--------+---------+----------+-------+----------+------+----------+------+----+----+-------+----------+----------+----------+--------+----+-------+---------+-----+--------+---+--------+----------+---------+--------+----------------+----------------+------------+-------+----------------+---------+------+---------+\n",
      "only showing top 1 row\n",
      "\n"
     ]
    }
   ],
   "source": [
    "#Exibindo os 10 primeiros registros\n",
    "data_acidentes.show(1)"
   ]
  },
  {
   "cell_type": "code",
   "execution_count": 33,
   "metadata": {},
   "outputs": [],
   "source": [
    "#Transformando nossos dados em formato pandas\n",
    "df = data_acidentes.toPandas()"
   ]
  },
  {
   "cell_type": "code",
   "execution_count": 6,
   "metadata": {},
   "outputs": [
    {
     "data": {
      "text/plain": [
       "(array([0, 1, 2, 3], dtype=int32), array([72736,   204,     8,     1]))"
      ]
     },
     "execution_count": 6,
     "metadata": {},
     "output_type": "execute_result"
    }
   ],
   "source": [
    "np.unique(df['mortes'], return_counts=True)"
   ]
  },
  {
   "cell_type": "code",
   "execution_count": 7,
   "metadata": {},
   "outputs": [
    {
     "name": "stdout",
     "output_type": "stream",
     "text": [
      "<class 'pandas.core.frame.DataFrame'>\n",
      "RangeIndex: 72949 entries, 0 to 72948\n",
      "Data columns (total 34 columns):\n",
      " #   Column         Non-Null Count  Dtype         \n",
      "---  ------         --------------  -----         \n",
      " 0   data_extracao  72949 non-null  datetime64[ns]\n",
      " 1   predial1       20000 non-null  float64       \n",
      " 2   queda_arr      72949 non-null  float32       \n",
      " 3   data           72949 non-null  object        \n",
      " 4   feridos        72949 non-null  int32         \n",
      " 5   feridos_gr     72949 non-null  int32         \n",
      " 6   mortes         72949 non-null  int32         \n",
      " 7   morte_post     72949 non-null  int32         \n",
      " 8   fatais         72949 non-null  int32         \n",
      " 9   auto           72949 non-null  int32         \n",
      " 10  taxi           72949 non-null  int32         \n",
      " 11  lotacao        72949 non-null  int32         \n",
      " 12  onibus_urb     72949 non-null  int32         \n",
      " 13  onibus_met     72949 non-null  int32         \n",
      " 14  onibus_int     72949 non-null  int32         \n",
      " 15  caminhao       72949 non-null  int32         \n",
      " 16  moto           72949 non-null  int32         \n",
      " 17  carroca        72949 non-null  int32         \n",
      " 18  bicicleta      72949 non-null  int32         \n",
      " 19  outro          72949 non-null  int32         \n",
      " 20  cont_vit       72949 non-null  int32         \n",
      " 21  ups            72949 non-null  int32         \n",
      " 22  patinete       72949 non-null  int32         \n",
      " 23  idacidente     72949 non-null  int32         \n",
      " 24  longitude      62743 non-null  object        \n",
      " 25  latitude       62743 non-null  object        \n",
      " 26  log1           72895 non-null  object        \n",
      " 27  log2           20300 non-null  object        \n",
      " 28  tipo_acid      72949 non-null  object        \n",
      " 29  dia_sem        72949 non-null  object        \n",
      " 30  hora           72496 non-null  object        \n",
      " 31  noite_dia      72949 non-null  object        \n",
      " 32  regiao         72948 non-null  object        \n",
      " 33  consorcio      2421 non-null   object        \n",
      "dtypes: datetime64[ns](1), float32(1), float64(1), int32(20), object(11)\n",
      "memory usage: 13.1+ MB\n"
     ]
    }
   ],
   "source": [
    "df.info()"
   ]
  },
  {
   "cell_type": "code",
   "execution_count": 16,
   "metadata": {},
   "outputs": [
    {
     "data": {
      "image/png": "[encoded data removed]",
      "text/plain": [
       "<Figure size 640x480 with 1 Axes>"
      ]
     },
     "metadata": {},
     "output_type": "display_data"
    }
   ],
   "source": [
    "# Gráfico número de mortes\n",
    "sns.countplot(x='fatais', data=df)\n",
    "plt.show()"
   ]
  },
  {
   "cell_type": "code",
   "execution_count": 9,
   "metadata": {},
   "outputs": [
    {
     "name": "stdout",
     "output_type": "stream",
     "text": [
      "+------+----------+\n",
      "|mortes|quantidade|\n",
      "+------+----------+\n",
      "|     1|       204|\n",
      "|     2|         8|\n",
      "|     0|     72736|\n",
      "|     3|         1|\n",
      "+------+----------+\n",
      "\n"
     ]
    }
   ],
   "source": [
    "# Select para visualizar melhor o número de mortes\n",
    "spark.sql(\"SELECT mortes, count(acidentes_table.idacidente) as quantidade FROM acidentes_table GROUP BY mortes\").show()"
   ]
  },
  {
   "cell_type": "code",
   "execution_count": 10,
   "metadata": {},
   "outputs": [
    {
     "name": "stdout",
     "output_type": "stream",
     "text": [
      "+------+----------+\n",
      "|fatais|quantidade|\n",
      "+------+----------+\n",
      "|     1|       395|\n",
      "|     2|        10|\n",
      "|     0|     72542|\n",
      "|     3|         1|\n",
      "|     4|         1|\n",
      "+------+----------+\n",
      "\n"
     ]
    }
   ],
   "source": [
    "# Select para visualizar o total de mortes, fatais soma a coluna mortes e mortes_post\n",
    "spark.sql(\"SELECT fatais, count(acidentes_table.idacidente) as quantidade FROM acidentes_table GROUP BY fatais\").show()"
   ]
  },
  {
   "cell_type": "code",
   "execution_count": 14,
   "metadata": {},
   "outputs": [
    {
     "data": {
      "image/png": "[encoded data removed]",
      "text/plain": [
       "<Figure size 1200x600 with 1 Axes>"
      ]
     },
     "metadata": {},
     "output_type": "display_data"
    }
   ],
   "source": [
    "# Gráfico para visualizar a quantidade de feridos por dia de semana\n",
    "df_grouped = df.groupby(\"dia_sem\").agg({\"feridos\": \"sum\"}).reset_index()\n",
    "\n",
    "plt.figure(figsize=(12, 6))\n",
    "sns.barplot(data=df_grouped, x=\"dia_sem\", y=\"feridos\", color=\"red\", alpha=0.6, label=\"Total de Feridos\")\n",
    "plt.title(\"Número de Mortes e Feridos por Dia da Semana\", fontsize=16)\n",
    "plt.xlabel(\"Dia da Semana\", fontsize=12)\n",
    "plt.ylabel(\"Total\", fontsize=12)\n",
    "plt.legend(title=\"Tipo\", fontsize=10)\n",
    "plt.xticks(rotation=45)\n",
    "plt.tight_layout()\n",
    "plt.show()"
   ]
  },
  {
   "cell_type": "code",
   "execution_count": null,
   "metadata": {},
   "outputs": [
    {
     "name": "stdout",
     "output_type": "stream",
     "text": [
      "+--------------+-----------------+------------------+\n",
      "|     tipo_acid|quantidade_mortes|quantidade_feridos|\n",
      "+--------------+-----------------+------------------+\n",
      "|  ABALROAMENTO|              104|             14056|\n",
      "|NAO CADASTRADO|                1|              1894|\n",
      "|      INCÊNDIO|                0|                 3|\n",
      "| ATROPELAMENTO|              142|              4186|\n",
      "|        CHOQUE|              103|              2362|\n",
      "|    TOMBAMENTO|                1|                67|\n",
      "|     CAPOTAGEM|                7|               245|\n",
      "|      EVENTUAL|                0|               451|\n",
      "|         QUEDA|               28|              2213|\n",
      "|       COLISÃO|               36|              7439|\n",
      "+--------------+-----------------+------------------+\n",
      "\n"
     ]
    }
   ],
   "source": [
    "# Select para visualizar a quantidade de feridos e de mortes por tipo de acidente\n",
    "spark.sql(\"SELECT tipo_acid, sum(acidentes_table.fatais) as quantidade_mortes, sum(acidentes_table.feridos) as quantidade_feridos\"+\n",
    "           \" FROM acidentes_table GROUP BY tipo_acid\").show()"
   ]
  },
  {
   "cell_type": "code",
   "execution_count": null,
   "metadata": {},
   "outputs": [
    {
     "data": {
      "image/png": "[encoded data removed]",
      "text/plain": [
       "<Figure size 1000x600 with 1 Axes>"
      ]
     },
     "metadata": {},
     "output_type": "display_data"
    }
   ],
   "source": [
    "# Gráfico para visualizar se ocorre mais mais ocorrências de DIA ou NOITE\n",
    "\n",
    "contagem = df.groupby([\"dia_sem\", \"noite_dia\"]).size().reset_index(name=\"quantidade\")\n",
    "\n",
    "plt.figure(figsize=(10, 6))\n",
    "sns.barplot(\n",
    "    data=contagem,\n",
    "    x=\"dia_sem\",\n",
    "    y=\"quantidade\",\n",
    "    hue=\"noite_dia\",\n",
    "    palette=\"muted\"\n",
    ")\n",
    "plt.title(\"Relação entre Dia da Semana e Período (Dia ou Noite)\", fontsize=14)\n",
    "plt.xlabel(\"Dia da Semana\", fontsize=12)\n",
    "plt.ylabel(\"Quantidade de Ocorrências\", fontsize=12)\n",
    "plt.legend(title=\"Período (Dia ou Noite)\")\n",
    "plt.xticks(rotation=45)\n",
    "plt.tight_layout()\n",
    "\n",
    "plt.show()"
   ]
  },
  {
   "cell_type": "markdown",
   "metadata": {},
   "source": [
    "### Explicar os dados"
   ]
  },
  {
   "cell_type": "code",
   "execution_count": null,
   "metadata": {},
   "outputs": [
    {
     "data": {
      "text/html": [
       "<div>\n",
       "<style scoped>\n",
       "    .dataframe tbody tr th:only-of-type {\n",
       "        vertical-align: middle;\n",
       "    }\n",
       "\n",
       "    .dataframe tbody tr th {\n",
       "        vertical-align: top;\n",
       "    }\n",
       "\n",
       "    .dataframe thead th {\n",
       "        text-align: right;\n",
       "    }\n",
       "</style>\n",
       "<table border=\"1\" class=\"dataframe\">\n",
       "  <thead>\n",
       "    <tr style=\"text-align: right;\">\n",
       "      <th></th>\n",
       "      <th>data_extracao</th>\n",
       "      <th>predial1</th>\n",
       "      <th>queda_arr</th>\n",
       "      <th>feridos</th>\n",
       "      <th>feridos_gr</th>\n",
       "      <th>mortes</th>\n",
       "      <th>morte_post</th>\n",
       "      <th>fatais</th>\n",
       "      <th>auto</th>\n",
       "      <th>taxi</th>\n",
       "      <th>...</th>\n",
       "      <th>moto</th>\n",
       "      <th>carroca</th>\n",
       "      <th>bicicleta</th>\n",
       "      <th>outro</th>\n",
       "      <th>cont_vit</th>\n",
       "      <th>ups</th>\n",
       "      <th>patinete</th>\n",
       "      <th>idacidente</th>\n",
       "      <th>total_mortes</th>\n",
       "      <th>total_feridos</th>\n",
       "    </tr>\n",
       "  </thead>\n",
       "  <tbody>\n",
       "    <tr>\n",
       "      <th>count</th>\n",
       "      <td>72949</td>\n",
       "      <td>20000.000000</td>\n",
       "      <td>72949.000000</td>\n",
       "      <td>72949.000000</td>\n",
       "      <td>72949.000000</td>\n",
       "      <td>72949.000000</td>\n",
       "      <td>72949.000000</td>\n",
       "      <td>72949.000000</td>\n",
       "      <td>72949.000000</td>\n",
       "      <td>72949.000000</td>\n",
       "      <td>...</td>\n",
       "      <td>72949.000000</td>\n",
       "      <td>72949.000000</td>\n",
       "      <td>72949.000000</td>\n",
       "      <td>72949.000000</td>\n",
       "      <td>72949.000000</td>\n",
       "      <td>72949.000000</td>\n",
       "      <td>72949.000000</td>\n",
       "      <td>72949.000000</td>\n",
       "      <td>72949.000000</td>\n",
       "      <td>72949.000000</td>\n",
       "    </tr>\n",
       "    <tr>\n",
       "      <th>mean</th>\n",
       "      <td>2024-09-01 01:32:35.999999744</td>\n",
       "      <td>1515.566450</td>\n",
       "      <td>0.000507</td>\n",
       "      <td>0.451219</td>\n",
       "      <td>0.080316</td>\n",
       "      <td>0.003057</td>\n",
       "      <td>0.002728</td>\n",
       "      <td>0.005785</td>\n",
       "      <td>1.436168</td>\n",
       "      <td>0.018547</td>\n",
       "      <td>...</td>\n",
       "      <td>0.312259</td>\n",
       "      <td>0.000329</td>\n",
       "      <td>0.020124</td>\n",
       "      <td>0.001179</td>\n",
       "      <td>0.386599</td>\n",
       "      <td>2.591029</td>\n",
       "      <td>0.000233</td>\n",
       "      <td>698894.691771</td>\n",
       "      <td>0.005785</td>\n",
       "      <td>0.531536</td>\n",
       "    </tr>\n",
       "    <tr>\n",
       "      <th>min</th>\n",
       "      <td>2024-09-01 01:32:36</td>\n",
       "      <td>0.000000</td>\n",
       "      <td>0.000000</td>\n",
       "      <td>0.000000</td>\n",
       "      <td>0.000000</td>\n",
       "      <td>0.000000</td>\n",
       "      <td>0.000000</td>\n",
       "      <td>0.000000</td>\n",
       "      <td>0.000000</td>\n",
       "      <td>0.000000</td>\n",
       "      <td>...</td>\n",
       "      <td>0.000000</td>\n",
       "      <td>0.000000</td>\n",
       "      <td>0.000000</td>\n",
       "      <td>0.000000</td>\n",
       "      <td>0.000000</td>\n",
       "      <td>1.000000</td>\n",
       "      <td>0.000000</td>\n",
       "      <td>190816.000000</td>\n",
       "      <td>0.000000</td>\n",
       "      <td>0.000000</td>\n",
       "    </tr>\n",
       "    <tr>\n",
       "      <th>25%</th>\n",
       "      <td>2024-09-01 01:32:36</td>\n",
       "      <td>0.000000</td>\n",
       "      <td>0.000000</td>\n",
       "      <td>0.000000</td>\n",
       "      <td>0.000000</td>\n",
       "      <td>0.000000</td>\n",
       "      <td>0.000000</td>\n",
       "      <td>0.000000</td>\n",
       "      <td>1.000000</td>\n",
       "      <td>0.000000</td>\n",
       "      <td>...</td>\n",
       "      <td>0.000000</td>\n",
       "      <td>0.000000</td>\n",
       "      <td>0.000000</td>\n",
       "      <td>0.000000</td>\n",
       "      <td>0.000000</td>\n",
       "      <td>1.000000</td>\n",
       "      <td>0.000000</td>\n",
       "      <td>674319.000000</td>\n",
       "      <td>0.000000</td>\n",
       "      <td>0.000000</td>\n",
       "    </tr>\n",
       "    <tr>\n",
       "      <th>50%</th>\n",
       "      <td>2024-09-01 01:32:36</td>\n",
       "      <td>565.500000</td>\n",
       "      <td>0.000000</td>\n",
       "      <td>0.000000</td>\n",
       "      <td>0.000000</td>\n",
       "      <td>0.000000</td>\n",
       "      <td>0.000000</td>\n",
       "      <td>0.000000</td>\n",
       "      <td>1.000000</td>\n",
       "      <td>0.000000</td>\n",
       "      <td>...</td>\n",
       "      <td>0.000000</td>\n",
       "      <td>0.000000</td>\n",
       "      <td>0.000000</td>\n",
       "      <td>0.000000</td>\n",
       "      <td>0.000000</td>\n",
       "      <td>1.000000</td>\n",
       "      <td>0.000000</td>\n",
       "      <td>692695.000000</td>\n",
       "      <td>0.000000</td>\n",
       "      <td>0.000000</td>\n",
       "    </tr>\n",
       "    <tr>\n",
       "      <th>75%</th>\n",
       "      <td>2024-09-01 01:32:36</td>\n",
       "      <td>1990.000000</td>\n",
       "      <td>0.000000</td>\n",
       "      <td>1.000000</td>\n",
       "      <td>0.000000</td>\n",
       "      <td>0.000000</td>\n",
       "      <td>0.000000</td>\n",
       "      <td>0.000000</td>\n",
       "      <td>2.000000</td>\n",
       "      <td>0.000000</td>\n",
       "      <td>...</td>\n",
       "      <td>1.000000</td>\n",
       "      <td>0.000000</td>\n",
       "      <td>0.000000</td>\n",
       "      <td>0.000000</td>\n",
       "      <td>1.000000</td>\n",
       "      <td>5.000000</td>\n",
       "      <td>0.000000</td>\n",
       "      <td>730899.000000</td>\n",
       "      <td>0.000000</td>\n",
       "      <td>1.000000</td>\n",
       "    </tr>\n",
       "    <tr>\n",
       "      <th>max</th>\n",
       "      <td>2024-09-01 01:32:36</td>\n",
       "      <td>90010.000000</td>\n",
       "      <td>1.000000</td>\n",
       "      <td>34.000000</td>\n",
       "      <td>5.000000</td>\n",
       "      <td>3.000000</td>\n",
       "      <td>2.000000</td>\n",
       "      <td>4.000000</td>\n",
       "      <td>10.000000</td>\n",
       "      <td>2.000000</td>\n",
       "      <td>...</td>\n",
       "      <td>4.000000</td>\n",
       "      <td>1.000000</td>\n",
       "      <td>2.000000</td>\n",
       "      <td>2.000000</td>\n",
       "      <td>1.000000</td>\n",
       "      <td>13.000000</td>\n",
       "      <td>2.000000</td>\n",
       "      <td>749141.000000</td>\n",
       "      <td>4.000000</td>\n",
       "      <td>34.000000</td>\n",
       "    </tr>\n",
       "    <tr>\n",
       "      <th>std</th>\n",
       "      <td>NaN</td>\n",
       "      <td>2364.588506</td>\n",
       "      <td>0.022516</td>\n",
       "      <td>0.670259</td>\n",
       "      <td>0.294352</td>\n",
       "      <td>0.057872</td>\n",
       "      <td>0.052682</td>\n",
       "      <td>0.079198</td>\n",
       "      <td>0.766656</td>\n",
       "      <td>0.135832</td>\n",
       "      <td>...</td>\n",
       "      <td>0.491023</td>\n",
       "      <td>0.018135</td>\n",
       "      <td>0.141978</td>\n",
       "      <td>0.035105</td>\n",
       "      <td>0.486974</td>\n",
       "      <td>2.090074</td>\n",
       "      <td>0.016137</td>\n",
       "      <td>29118.598853</td>\n",
       "      <td>0.079198</td>\n",
       "      <td>0.826365</td>\n",
       "    </tr>\n",
       "  </tbody>\n",
       "</table>\n",
       "<p>8 rows × 25 columns</p>\n",
       "</div>"
      ],
      "text/plain": [
       "                       data_extracao      predial1     queda_arr  \\\n",
       "count                          72949  20000.000000  72949.000000   \n",
       "mean   2024-09-01 01:32:35.999999744   1515.566450      0.000507   \n",
       "min              2024-09-01 01:32:36      0.000000      0.000000   \n",
       "25%              2024-09-01 01:32:36      0.000000      0.000000   \n",
       "50%              2024-09-01 01:32:36    565.500000      0.000000   \n",
       "75%              2024-09-01 01:32:36   1990.000000      0.000000   \n",
       "max              2024-09-01 01:32:36  90010.000000      1.000000   \n",
       "std                              NaN   2364.588506      0.022516   \n",
       "\n",
       "            feridos    feridos_gr        mortes    morte_post        fatais  \\\n",
       "count  72949.000000  72949.000000  72949.000000  72949.000000  72949.000000   \n",
       "mean       0.451219      0.080316      0.003057      0.002728      0.005785   \n",
       "min        0.000000      0.000000      0.000000      0.000000      0.000000   \n",
       "25%        0.000000      0.000000      0.000000      0.000000      0.000000   \n",
       "50%        0.000000      0.000000      0.000000      0.000000      0.000000   \n",
       "75%        1.000000      0.000000      0.000000      0.000000      0.000000   \n",
       "max       34.000000      5.000000      3.000000      2.000000      4.000000   \n",
       "std        0.670259      0.294352      0.057872      0.052682      0.079198   \n",
       "\n",
       "               auto          taxi  ...          moto       carroca  \\\n",
       "count  72949.000000  72949.000000  ...  72949.000000  72949.000000   \n",
       "mean       1.436168      0.018547  ...      0.312259      0.000329   \n",
       "min        0.000000      0.000000  ...      0.000000      0.000000   \n",
       "25%        1.000000      0.000000  ...      0.000000      0.000000   \n",
       "50%        1.000000      0.000000  ...      0.000000      0.000000   \n",
       "75%        2.000000      0.000000  ...      1.000000      0.000000   \n",
       "max       10.000000      2.000000  ...      4.000000      1.000000   \n",
       "std        0.766656      0.135832  ...      0.491023      0.018135   \n",
       "\n",
       "          bicicleta         outro      cont_vit           ups      patinete  \\\n",
       "count  72949.000000  72949.000000  72949.000000  72949.000000  72949.000000   \n",
       "mean       0.020124      0.001179      0.386599      2.591029      0.000233   \n",
       "min        0.000000      0.000000      0.000000      1.000000      0.000000   \n",
       "25%        0.000000      0.000000      0.000000      1.000000      0.000000   \n",
       "50%        0.000000      0.000000      0.000000      1.000000      0.000000   \n",
       "75%        0.000000      0.000000      1.000000      5.000000      0.000000   \n",
       "max        2.000000      2.000000      1.000000     13.000000      2.000000   \n",
       "std        0.141978      0.035105      0.486974      2.090074      0.016137   \n",
       "\n",
       "          idacidente  total_mortes  total_feridos  \n",
       "count   72949.000000  72949.000000   72949.000000  \n",
       "mean   698894.691771      0.005785       0.531536  \n",
       "min    190816.000000      0.000000       0.000000  \n",
       "25%    674319.000000      0.000000       0.000000  \n",
       "50%    692695.000000      0.000000       0.000000  \n",
       "75%    730899.000000      0.000000       1.000000  \n",
       "max    749141.000000      4.000000      34.000000  \n",
       "std     29118.598853      0.079198       0.826365  \n",
       "\n",
       "[8 rows x 25 columns]"
      ]
     },
     "execution_count": 56,
     "metadata": {},
     "output_type": "execute_result"
    }
   ],
   "source": [
    "df.describe()"
   ]
  },
  {
   "cell_type": "code",
   "execution_count": null,
   "metadata": {},
   "outputs": [
    {
     "name": "stdout",
     "output_type": "stream",
     "text": [
      "+------+----------+------+-------+--------+\n",
      "|mortes|morte_post|fatais|feridos|cont_vit|\n",
      "+------+----------+------+-------+--------+\n",
      "|     0|         0|     0|      0|       0|\n",
      "|     2|         0|     2|      1|       1|\n",
      "|     2|         0|     2|      0|       1|\n",
      "|     0|         1|     1|      1|       1|\n",
      "|     0|         0|     0|      3|       1|\n",
      "|     0|         1|     1|      3|       1|\n",
      "|     1|         0|     1|      2|       1|\n",
      "|     1|         0|     1|      3|       1|\n",
      "|     1|         0|     1|      4|       1|\n",
      "|     0|         1|     1|      0|       1|\n",
      "|     0|         0|     0|      2|       1|\n",
      "|     0|         0|     0|      1|       1|\n",
      "|     0|         0|     0|     25|       1|\n",
      "|     0|         1|     1|      2|       1|\n",
      "|     0|         2|     2|      0|       1|\n",
      "|     0|         0|     0|      6|       1|\n",
      "|     0|         0|     0|      4|       1|\n",
      "|     1|         0|     1|      0|       1|\n",
      "|     1|         0|     1|      1|       1|\n",
      "|     0|         0|     0|      8|       1|\n",
      "+------+----------+------+-------+--------+\n",
      "only showing top 20 rows\n",
      "\n"
     ]
    }
   ],
   "source": [
    "# Select para visualizar a quantidade de vitimas fatais, feridos e cont_vit para visualizar a diferença\n",
    "spark.sql(\"SELECT mortes, morte_post, fatais, feridos, cont_vit  FROM acidentes_table GROUP BY mortes, morte_post, fatais, feridos, cont_vit\").show()\n",
    "\n",
    "# ********** IDENTIFICADO QUE FATAIS É A SOMA DE MORTES E MORTE_POST ************\n",
    "# ********** NÚMERO DE VITIMAS PARECE SER VITIMAS QUE PODEM TER SE ENVOLDIDO NO ACIDENTE, MAS NÃO NECESSARIAMENTE MORREU OU SE FERIU ************"
   ]
  },
  {
   "cell_type": "code",
   "execution_count": null,
   "metadata": {},
   "outputs": [
    {
     "name": "stdout",
     "output_type": "stream",
     "text": [
      "+---+\n",
      "|ups|\n",
      "+---+\n",
      "|  1|\n",
      "| 13|\n",
      "|  5|\n",
      "+---+\n",
      "\n",
      "+---+------+----------+------+-------+--------+\n",
      "|ups|mortes|morte_post|fatais|feridos|cont_vit|\n",
      "+---+------+----------+------+-------+--------+\n",
      "| 13|     0|         1|     1|      3|       1|\n",
      "| 13|     1|         0|     1|      1|       1|\n",
      "|  5|     0|         0|     0|      1|       1|\n",
      "| 13|     0|         1|     1|      1|       1|\n",
      "|  5|     0|         0|     0|      4|       1|\n",
      "|  1|     0|         0|     0|      0|       0|\n",
      "|  5|     0|         0|     0|      7|       1|\n",
      "| 13|     1|         0|     1|      3|       1|\n",
      "|  5|     0|         0|     0|     25|       1|\n",
      "| 13|     0|         2|     2|      0|       1|\n",
      "| 13|     2|         0|     2|      1|       1|\n",
      "| 13|     1|         0|     1|      0|       1|\n",
      "| 13|     0|         1|     1|      0|       1|\n",
      "|  5|     0|         0|     0|      6|       1|\n",
      "| 13|     0|         1|     1|      2|       1|\n",
      "| 13|     2|         0|     2|      0|       1|\n",
      "|  5|     0|         0|     0|      3|       1|\n",
      "| 13|     1|         0|     1|      4|       1|\n",
      "|  5|     0|         0|     0|      2|       1|\n",
      "|  5|     0|         0|     0|      8|       1|\n",
      "+---+------+----------+------+-------+--------+\n",
      "only showing top 20 rows\n",
      "\n",
      "ups\n",
      "1     44747\n",
      "5     27795\n",
      "13      407\n",
      "Name: count, dtype: int64\n"
     ]
    }
   ],
   "source": [
    "# Select para visualizar a coluna ups que é um dado numérico para gravidade do acidente\n",
    "spark.sql(\"SELECT DISTINCT ups from acidentes_table\").show()\n",
    "spark.sql(\"SELECT ups, mortes, morte_post, fatais, feridos, cont_vit  FROM acidentes_table GROUP BY ups, mortes, morte_post, fatais, feridos, cont_vit\").show()\n",
    "\n",
    "print(df['ups'].value_counts())"
   ]
  },
  {
   "cell_type": "markdown",
   "metadata": {},
   "source": [
    "#### Descrição das colunas:"
   ]
  },
  {
   "cell_type": "code",
   "execution_count": 19,
   "metadata": {},
   "outputs": [
    {
     "data": {
      "text/plain": [
       "data_extracao    datetime64[ns]\n",
       "predial1                float64\n",
       "queda_arr               float32\n",
       "data                     object\n",
       "feridos                   int32\n",
       "feridos_gr                int32\n",
       "mortes                    int32\n",
       "morte_post                int32\n",
       "fatais                    int32\n",
       "auto                      int32\n",
       "taxi                      int32\n",
       "lotacao                   int32\n",
       "onibus_urb                int32\n",
       "onibus_met                int32\n",
       "onibus_int                int32\n",
       "caminhao                  int32\n",
       "moto                      int32\n",
       "carroca                   int32\n",
       "bicicleta                 int32\n",
       "outro                     int32\n",
       "cont_vit                  int32\n",
       "ups                       int32\n",
       "patinete                  int32\n",
       "idacidente                int32\n",
       "longitude                object\n",
       "latitude                 object\n",
       "log1                     object\n",
       "log2                     object\n",
       "tipo_acid                object\n",
       "dia_sem                  object\n",
       "hora                     object\n",
       "noite_dia                object\n",
       "regiao                   object\n",
       "consorcio                object\n",
       "dtype: object"
      ]
     },
     "execution_count": 19,
     "metadata": {},
     "output_type": "execute_result"
    }
   ],
   "source": [
    "df.dtypes"
   ]
  },
  {
   "cell_type": "markdown",
   "metadata": {},
   "source": [
    "- data_extracao -> Data que foi importado os registros para o dataset público\n",
    "- predial1 -> Número do edificio\n",
    "- queda_arr -> Se o veículo caiu em algum riacho/rio\n",
    "- data -> Data do acidente\n",
    "- feridos -> Número de feridos\n",
    "- feridos_gr -> Número de gravemente feridos\n",
    "- mortes -> Número de mortes\n",
    "- morte_post -> Número de mortes posteriormente\n",
    "- fatais -> Número total de mortes (somando mortes e morte_post)\n",
    "- auto -> Número de carros\n",
    "- taxi -> Número de taxi\n",
    "- lotacao -> Número de lotação\n",
    "- onibus_urb -> Número de ônibus urbanos\n",
    "- onibus_met -> Número de ônibus de outras cidades\n",
    "- onibus_int -> Número de ônibus intermunicipais\n",
    "- caminhao -> Número de caminhões \n",
    "- moto -> Número de motos\n",
    "- carroca -> Número de carroças\n",
    "- bicicleta -> Número de bicicletas\n",
    "- outro -> Número de outros veículos diferente dos que estão listados anteriormente\n",
    "- cont_vit -> Número de vitimas\n",
    "- ups -> Unidade de gravidade padrão: Peso atribuído aos tipos de acidentes de acordo com a gravidade dos danos causados\n",
    "- patinete -> Número de patinetes\n",
    "- idacidente -> Id do acidente\n",
    "- longitude -> Longitude do local do endereço\n",
    "- latitude -> Latitude do local do endereço\n",
    "- log1 -> Endereço do acidente\n",
    "- log2 -> Complemente do endereço\n",
    "- tipo_acid -> Tipo do acidente\n",
    "- dia_sem -> Dia da semana que ocorreu o acidente\n",
    "- hora -> Hora do acidente\n",
    "- noite_dia -> Coluna que sinaliza se o acidente ocorreu durante o DIA ou NOITE\n",
    "- regiao -> Região que ocorreu o acidente\n",
    "- consorcio -> Consorcio do ônibus"
   ]
  },
  {
   "cell_type": "markdown",
   "metadata": {},
   "source": [
    "### Decidir quais atributos serão úteis"
   ]
  },
  {
   "cell_type": "code",
   "execution_count": null,
   "metadata": {},
   "outputs": [],
   "source": [
    "# Excluir colunas desnecessarias\n",
    "# df.drop(columns=['predial1', 'queda_arr', 'mortes', 'morte_post', 'idacidente', 'consorcio', 'data_extracao'], inplace=True) \n",
    "\n",
    "# Versão 2 -> Pensando que nosso trabalho pode abordar somente se o usuário estiver dirigindo um veiculo/moto ou estar em um taxi\n",
    "df.drop(columns=['predial1', 'queda_arr', 'mortes', 'morte_post', 'idacidente', 'consorcio', 'data_extracao','lotacao', 'onibus_urb', 'onibus_met', 'onibus_int', 'caminhao', 'carroca', 'bicicleta', 'outro', 'patinete'], inplace=True)"
   ]
  },
  {
   "cell_type": "markdown",
   "metadata": {},
   "source": [
    "### Classificar as variáveis/atributo"
   ]
  },
  {
   "cell_type": "code",
   "execution_count": 35,
   "metadata": {},
   "outputs": [
    {
     "data": {
      "text/html": [
       "<div>\n",
       "<style scoped>\n",
       "    .dataframe tbody tr th:only-of-type {\n",
       "        vertical-align: middle;\n",
       "    }\n",
       "\n",
       "    .dataframe tbody tr th {\n",
       "        vertical-align: top;\n",
       "    }\n",
       "\n",
       "    .dataframe thead th {\n",
       "        text-align: right;\n",
       "    }\n",
       "</style>\n",
       "<table border=\"1\" class=\"dataframe\">\n",
       "  <thead>\n",
       "    <tr style=\"text-align: right;\">\n",
       "      <th></th>\n",
       "      <th>feridos</th>\n",
       "      <th>feridos_gr</th>\n",
       "      <th>fatais</th>\n",
       "      <th>auto</th>\n",
       "      <th>taxi</th>\n",
       "      <th>moto</th>\n",
       "      <th>cont_vit</th>\n",
       "      <th>ups</th>\n",
       "    </tr>\n",
       "  </thead>\n",
       "  <tbody>\n",
       "    <tr>\n",
       "      <th>count</th>\n",
       "      <td>72949.000000</td>\n",
       "      <td>72949.000000</td>\n",
       "      <td>72949.000000</td>\n",
       "      <td>72949.000000</td>\n",
       "      <td>72949.000000</td>\n",
       "      <td>72949.000000</td>\n",
       "      <td>72949.000000</td>\n",
       "      <td>72949.000000</td>\n",
       "    </tr>\n",
       "    <tr>\n",
       "      <th>mean</th>\n",
       "      <td>0.451219</td>\n",
       "      <td>0.080316</td>\n",
       "      <td>0.005785</td>\n",
       "      <td>1.436168</td>\n",
       "      <td>0.018547</td>\n",
       "      <td>0.312259</td>\n",
       "      <td>0.386599</td>\n",
       "      <td>2.591029</td>\n",
       "    </tr>\n",
       "    <tr>\n",
       "      <th>std</th>\n",
       "      <td>0.670259</td>\n",
       "      <td>0.294352</td>\n",
       "      <td>0.079198</td>\n",
       "      <td>0.766656</td>\n",
       "      <td>0.135832</td>\n",
       "      <td>0.491023</td>\n",
       "      <td>0.486974</td>\n",
       "      <td>2.090074</td>\n",
       "    </tr>\n",
       "    <tr>\n",
       "      <th>min</th>\n",
       "      <td>0.000000</td>\n",
       "      <td>0.000000</td>\n",
       "      <td>0.000000</td>\n",
       "      <td>0.000000</td>\n",
       "      <td>0.000000</td>\n",
       "      <td>0.000000</td>\n",
       "      <td>0.000000</td>\n",
       "      <td>1.000000</td>\n",
       "    </tr>\n",
       "    <tr>\n",
       "      <th>25%</th>\n",
       "      <td>0.000000</td>\n",
       "      <td>0.000000</td>\n",
       "      <td>0.000000</td>\n",
       "      <td>1.000000</td>\n",
       "      <td>0.000000</td>\n",
       "      <td>0.000000</td>\n",
       "      <td>0.000000</td>\n",
       "      <td>1.000000</td>\n",
       "    </tr>\n",
       "    <tr>\n",
       "      <th>50%</th>\n",
       "      <td>0.000000</td>\n",
       "      <td>0.000000</td>\n",
       "      <td>0.000000</td>\n",
       "      <td>1.000000</td>\n",
       "      <td>0.000000</td>\n",
       "      <td>0.000000</td>\n",
       "      <td>0.000000</td>\n",
       "      <td>1.000000</td>\n",
       "    </tr>\n",
       "    <tr>\n",
       "      <th>75%</th>\n",
       "      <td>1.000000</td>\n",
       "      <td>0.000000</td>\n",
       "      <td>0.000000</td>\n",
       "      <td>2.000000</td>\n",
       "      <td>0.000000</td>\n",
       "      <td>1.000000</td>\n",
       "      <td>1.000000</td>\n",
       "      <td>5.000000</td>\n",
       "    </tr>\n",
       "    <tr>\n",
       "      <th>max</th>\n",
       "      <td>34.000000</td>\n",
       "      <td>5.000000</td>\n",
       "      <td>4.000000</td>\n",
       "      <td>10.000000</td>\n",
       "      <td>2.000000</td>\n",
       "      <td>4.000000</td>\n",
       "      <td>1.000000</td>\n",
       "      <td>13.000000</td>\n",
       "    </tr>\n",
       "  </tbody>\n",
       "</table>\n",
       "</div>"
      ],
      "text/plain": [
       "            feridos    feridos_gr        fatais          auto          taxi  \\\n",
       "count  72949.000000  72949.000000  72949.000000  72949.000000  72949.000000   \n",
       "mean       0.451219      0.080316      0.005785      1.436168      0.018547   \n",
       "std        0.670259      0.294352      0.079198      0.766656      0.135832   \n",
       "min        0.000000      0.000000      0.000000      0.000000      0.000000   \n",
       "25%        0.000000      0.000000      0.000000      1.000000      0.000000   \n",
       "50%        0.000000      0.000000      0.000000      1.000000      0.000000   \n",
       "75%        1.000000      0.000000      0.000000      2.000000      0.000000   \n",
       "max       34.000000      5.000000      4.000000     10.000000      2.000000   \n",
       "\n",
       "               moto      cont_vit           ups  \n",
       "count  72949.000000  72949.000000  72949.000000  \n",
       "mean       0.312259      0.386599      2.591029  \n",
       "std        0.491023      0.486974      2.090074  \n",
       "min        0.000000      0.000000      1.000000  \n",
       "25%        0.000000      0.000000      1.000000  \n",
       "50%        0.000000      0.000000      1.000000  \n",
       "75%        1.000000      1.000000      5.000000  \n",
       "max        4.000000      1.000000     13.000000  "
      ]
     },
     "execution_count": 35,
     "metadata": {},
     "output_type": "execute_result"
    }
   ],
   "source": [
    "df.describe()"
   ]
  },
  {
   "cell_type": "code",
   "execution_count": 26,
   "metadata": {},
   "outputs": [
    {
     "data": {
      "text/html": [
       "<div>\n",
       "<style scoped>\n",
       "    .dataframe tbody tr th:only-of-type {\n",
       "        vertical-align: middle;\n",
       "    }\n",
       "\n",
       "    .dataframe tbody tr th {\n",
       "        vertical-align: top;\n",
       "    }\n",
       "\n",
       "    .dataframe thead th {\n",
       "        text-align: right;\n",
       "    }\n",
       "</style>\n",
       "<table border=\"1\" class=\"dataframe\">\n",
       "  <thead>\n",
       "    <tr style=\"text-align: right;\">\n",
       "      <th></th>\n",
       "      <th>data</th>\n",
       "      <th>longitude</th>\n",
       "      <th>latitude</th>\n",
       "      <th>log1</th>\n",
       "      <th>log2</th>\n",
       "      <th>tipo_acid</th>\n",
       "      <th>dia_sem</th>\n",
       "      <th>hora</th>\n",
       "      <th>noite_dia</th>\n",
       "      <th>regiao</th>\n",
       "    </tr>\n",
       "  </thead>\n",
       "  <tbody>\n",
       "    <tr>\n",
       "      <th>count</th>\n",
       "      <td>72949</td>\n",
       "      <td>62743</td>\n",
       "      <td>62743</td>\n",
       "      <td>72895</td>\n",
       "      <td>20300</td>\n",
       "      <td>72949</td>\n",
       "      <td>72949</td>\n",
       "      <td>72496</td>\n",
       "      <td>72949</td>\n",
       "      <td>72948</td>\n",
       "    </tr>\n",
       "    <tr>\n",
       "      <th>unique</th>\n",
       "      <td>2088</td>\n",
       "      <td>43541</td>\n",
       "      <td>44906</td>\n",
       "      <td>4215</td>\n",
       "      <td>2043</td>\n",
       "      <td>10</td>\n",
       "      <td>7</td>\n",
       "      <td>1377</td>\n",
       "      <td>2</td>\n",
       "      <td>4</td>\n",
       "    </tr>\n",
       "    <tr>\n",
       "      <th>top</th>\n",
       "      <td>2024-04-11</td>\n",
       "      <td>0</td>\n",
       "      <td>0</td>\n",
       "      <td>AV PROTASIO ALVES</td>\n",
       "      <td>AV IPIRANGA</td>\n",
       "      <td>ABALROAMENTO</td>\n",
       "      <td>SEXTA-FEIRA</td>\n",
       "      <td>18:00:00.0000000</td>\n",
       "      <td>DIA</td>\n",
       "      <td>LESTE</td>\n",
       "    </tr>\n",
       "    <tr>\n",
       "      <th>freq</th>\n",
       "      <td>82</td>\n",
       "      <td>594</td>\n",
       "      <td>594</td>\n",
       "      <td>2131</td>\n",
       "      <td>452</td>\n",
       "      <td>33099</td>\n",
       "      <td>12373</td>\n",
       "      <td>1141</td>\n",
       "      <td>51611</td>\n",
       "      <td>22994</td>\n",
       "    </tr>\n",
       "  </tbody>\n",
       "</table>\n",
       "</div>"
      ],
      "text/plain": [
       "              data longitude latitude                log1         log2  \\\n",
       "count        72949     62743    62743               72895        20300   \n",
       "unique        2088     43541    44906                4215         2043   \n",
       "top     2024-04-11         0        0  AV PROTASIO ALVES   AV IPIRANGA   \n",
       "freq            82       594      594                2131          452   \n",
       "\n",
       "           tipo_acid      dia_sem              hora noite_dia regiao  \n",
       "count          72949        72949             72496     72949  72948  \n",
       "unique            10            7              1377         2      4  \n",
       "top     ABALROAMENTO  SEXTA-FEIRA  18:00:00.0000000       DIA  LESTE  \n",
       "freq           33099        12373              1141     51611  22994  "
      ]
     },
     "execution_count": 26,
     "metadata": {},
     "output_type": "execute_result"
    }
   ],
   "source": [
    "df.describe(include='object')"
   ]
  },
  {
   "cell_type": "markdown",
   "metadata": {},
   "source": [
    "- Hora e data seria necessário?"
   ]
  },
  {
   "cell_type": "code",
   "execution_count": null,
   "metadata": {},
   "outputs": [],
   "source": [
    "df.drop(columns=['hora'], inplace=True)\n",
    "df.drop(columns=['data'], inplace=True)"
   ]
  },
  {
   "cell_type": "code",
   "execution_count": null,
   "metadata": {},
   "outputs": [],
   "source": [
    "#Criar coluna de gravidade em cima do valor de ups\n",
    "def classificar_gravidade(ups):\n",
    "    if ups <= 3:\n",
    "        return \"BAIXA\"\n",
    "    elif 4 <= ups <= 10:\n",
    "        return \"MEDIA\"\n",
    "    else:\n",
    "        return \"ALTA\"\n",
    "\n",
    "# Criar a nova coluna\n",
    "df[\"gravidade_acidente\"] = df[\"ups\"].apply(classificar_gravidade)"
   ]
  },
  {
   "cell_type": "markdown",
   "metadata": {},
   "source": [
    "### Separar entre previsores e classe"
   ]
  },
  {
   "cell_type": "code",
   "execution_count": 43,
   "metadata": {},
   "outputs": [
    {
     "data": {
      "text/plain": [
       "feridos                int32\n",
       "feridos_gr             int32\n",
       "fatais                 int32\n",
       "auto                   int32\n",
       "taxi                   int32\n",
       "moto                   int32\n",
       "cont_vit               int32\n",
       "ups                    int32\n",
       "longitude             object\n",
       "latitude              object\n",
       "log1                  object\n",
       "log2                  object\n",
       "tipo_acid             object\n",
       "dia_sem               object\n",
       "noite_dia             object\n",
       "regiao                object\n",
       "gravidade_acidente    object\n",
       "dtype: object"
      ]
     },
     "execution_count": 43,
     "metadata": {},
     "output_type": "execute_result"
    }
   ],
   "source": [
    "df.dtypes"
   ]
  },
  {
   "cell_type": "code",
   "execution_count": 45,
   "metadata": {},
   "outputs": [],
   "source": [
    "x = df[[\"log1\", \"log2\", \"latitude\", \"longitude\", \"dia_sem\", \"noite_dia\"]]\n",
    "y = df[\"gravidade_acidente\"]"
   ]
  },
  {
   "cell_type": "markdown",
   "metadata": {},
   "source": [
    "### Transformar as colunas"
   ]
  },
  {
   "cell_type": "code",
   "execution_count": null,
   "metadata": {},
   "outputs": [],
   "source": [
    "from sklearn.preprocessing import StandardScaler, OneHotEncoder\n",
    "\n"
   ]
  },
  {
   "cell_type": "markdown",
   "metadata": {},
   "source": [
    "### Padronizar os dados"
   ]
  },
  {
   "cell_type": "markdown",
   "metadata": {},
   "source": [
    "### Dividir entre conjuntos de treino e teste"
   ]
  },
  {
   "cell_type": "code",
   "execution_count": null,
   "metadata": {},
   "outputs": [],
   "source": []
  },
  {
   "cell_type": "markdown",
   "metadata": {},
   "source": [
    "### Treinar um modelo de machine learning"
   ]
  },
  {
   "cell_type": "markdown",
   "metadata": {},
   "source": [
    "### Reportar os resultados estatísticos"
   ]
  }
 ],
 "metadata": {
  "kernelspec": {
   "display_name": "venv",
   "language": "python",
   "name": "python3"
  },
  "language_info": {
   "codemirror_mode": {
    "name": "ipython",
    "version": 3
   },
   "file_extension": ".py",
   "mimetype": "text/x-python",
   "name": "python",
   "nbconvert_exporter": "python",
   "pygments_lexer": "ipython3",
   "version": "3.9.13"
  }
 },
 "nbformat": 4,
 "nbformat_minor": 2
}
